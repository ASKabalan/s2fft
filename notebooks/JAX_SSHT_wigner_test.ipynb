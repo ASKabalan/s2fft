{
 "cells": [
  {
   "cell_type": "code",
   "execution_count": 1,
   "metadata": {},
   "outputs": [],
   "source": [
    "import jax\n",
    "jax.config.update(\"jax_enable_x64\", True)\n",
    "\n",
    "import numpy as np\n",
    "import jax.numpy as jnp\n",
    "import s2fft \n",
    "\n",
    "from s2fft.recursions.price_mcewen import generate_precomputes_wigner_jax\n",
    "\n",
    "\n",
    "L = 256\n",
    "N = 3 \n",
    "method = \"jax_ssht\"\n",
    "sampling = \"mw\"\n",
    "reality = False\n",
    "rng = np.random.default_rng(0)\n",
    "flmn = s2fft.utils.signal_generator.generate_flmn(rng, L, N, reality=reality)\n",
    "f = s2fft.wigner.inverse(flmn, L, N, sampling=sampling, method=\"jax\")"
   ]
  },
  {
   "cell_type": "code",
   "execution_count": 2,
   "metadata": {},
   "outputs": [],
   "source": [
    "precomps = generate_precomputes_wigner_jax(L, N, sampling, None, False, reality)"
   ]
  },
  {
   "cell_type": "code",
   "execution_count": 3,
   "metadata": {},
   "outputs": [
    {
     "name": "stdout",
     "output_type": "stream",
     "text": [
      "2.24 s ± 136 ms per loop (mean ± std. dev. of 7 runs, 1 loop each)\n"
     ]
    }
   ],
   "source": [
    "f_old = s2fft.wigner.inverse_jax(flmn, L, N, precomps=precomps, sampling=sampling, reality=reality)\n",
    "%timeit s2fft.wigner.inverse_jax(flmn, L, N, precomps=precomps, sampling=sampling, reality=reality)"
   ]
  },
  {
   "cell_type": "code",
   "execution_count": 4,
   "metadata": {},
   "outputs": [
    {
     "name": "stdout",
     "output_type": "stream",
     "text": [
      "2.11 s ± 191 ms per loop (mean ± std. dev. of 7 runs, 1 loop each)\n"
     ]
    }
   ],
   "source": [
    "f_new = s2fft.wigner.inverse_jax_new(flmn, L, N, precomps=precomps, sampling=sampling, reality=reality)\n",
    "%timeit s2fft.wigner.inverse_jax_new(flmn, L, N, precomps=precomps, sampling=sampling, reality=reality)"
   ]
  },
  {
   "cell_type": "code",
   "execution_count": 5,
   "metadata": {},
   "outputs": [],
   "source": [
    "np.testing.assert_allclose(f_old, f_new)"
   ]
  }
 ],
 "metadata": {
  "kernelspec": {
   "display_name": "Python 3.10.0 ('s2fft')",
   "language": "python",
   "name": "python3"
  },
  "language_info": {
   "codemirror_mode": {
    "name": "ipython",
    "version": 3
   },
   "file_extension": ".py",
   "mimetype": "text/x-python",
   "name": "python",
   "nbconvert_exporter": "python",
   "pygments_lexer": "ipython3",
   "version": "3.10.0"
  },
  "orig_nbformat": 4,
  "vscode": {
   "interpreter": {
    "hash": "3425e24474cbe920550266ea26b478634978cc419579f9dbcf479231067df6a3"
   }
  }
 },
 "nbformat": 4,
 "nbformat_minor": 2
}
