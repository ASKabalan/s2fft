{
 "cells": [
  {
   "cell_type": "markdown",
   "metadata": {},
   "source": [
    "# [`S2FFT`](https://github.com/astro-informatics/s2fft) - __Spherical harmonic transform__ Interactive Tutorial\n",
    "---\n",
    "\n"
   ]
  },
  {
   "attachments": {},
   "cell_type": "markdown",
   "metadata": {},
   "source": [
    "This tutorial demonstrates how to use `S2FFT` to compute spherical harmonic transforms.\n",
    "\n",
    "Specifically, we will adopt the sampling scheme of [McEwen & Wiaux (2012)](https://arxiv.org/abs/1110.6298)). \n",
    "\n",
    "First let's load an input signal that is sampled on the sphere with this sampling scheme.  We'll consider the Galactic plane map captured by ESA's [Gaia satellite](https://sci.esa.int/web/gaia)!"
   ]
  },
  {
   "cell_type": "code",
   "execution_count": 1,
   "metadata": {},
   "outputs": [
    {
     "name": "stderr",
     "output_type": "stream",
     "text": [
      "/Users/mcewen/miniforge3/envs/s2fft-2/lib/python3.9/site-packages/jax/_src/lib/__init__.py:34: UserWarning: JAX on Mac ARM machines is experimental and minimally tested. Please see https://github.com/google/jax/issues/5501 in the event of problems.\n",
      "  warnings.warn(\"JAX on Mac ARM machines is experimental and minimally tested. \"\n"
     ]
    }
   ],
   "source": [
    "import numpy as np\n",
    "import s2fft \n",
    "\n",
    "L = 1000\n",
    "sampling = \"mw\"\n",
    "f = np.load('data/Gaia_EDR3_flux.npy')"
   ]
  },
  {
   "attachments": {},
   "cell_type": "markdown",
   "metadata": {},
   "source": [
    "Now, lets take a look at the data on the sphere using [`PyVista`](https://docs.pyvista.org/index.html). "
   ]
  },
  {
   "cell_type": "code",
   "execution_count": 2,
   "metadata": {},
   "outputs": [
    {
     "data": {
      "application/vnd.jupyter.widget-view+json": {
       "model_id": "818eb98733f7407e958cbf8594a20e12",
       "version_major": 2,
       "version_minor": 0
      },
      "text/plain": [
       "Widget(value=\"<iframe src='http://localhost:56898/index.html?ui=P_0x2adfc1400_0&reconnect=auto' style='width: …"
      ]
     },
     "metadata": {},
     "output_type": "display_data"
    }
   ],
   "source": [
    "s2fft.utils.plotting_functions.plot_sphere(f, L, sampling, isnotebook=True)"
   ]
  },
  {
   "attachments": {},
   "cell_type": "markdown",
   "metadata": {},
   "source": [
    "### Computing the forward spherical harmonic transform\n",
    "---\n",
    "\n",
    "Let's now run the JAX function to compute the spherical harmonic transform of this observational map."
   ]
  },
  {
   "cell_type": "code",
   "execution_count": 3,
   "metadata": {},
   "outputs": [
    {
     "name": "stderr",
     "output_type": "stream",
     "text": [
      "WARNING:absl:No GPU/TPU found, falling back to CPU. (Set TF_CPP_MIN_LOG_LEVEL=0 and rerun for more info.)\n"
     ]
    }
   ],
   "source": [
    "flm = s2fft.forward_jax(f, L, reality=True)"
   ]
  },
  {
   "attachments": {},
   "cell_type": "markdown",
   "metadata": {},
   "source": [
    "If you are planning on applying this transform many times (e.g. during training of a model) we recommend precomputing and storing some small arrays that are used every time. To do this simply compute these and pass as a static argument."
   ]
  },
  {
   "cell_type": "code",
   "execution_count": 4,
   "metadata": {},
   "outputs": [],
   "source": [
    "precomps = s2fft.generate_precomputes_jax(L, forward=True)\n",
    "flm_pre = s2fft.forward_jax(f, L, reality=True, precomps=precomps)"
   ]
  },
  {
   "attachments": {},
   "cell_type": "markdown",
   "metadata": {},
   "source": [
    "### Computing the inverse spherical harmonic transform\n",
    "---\n",
    "\n",
    "Let's run the JAX function to cmpute the inverse spherical harmonic transform to get back to the observational map."
   ]
  },
  {
   "cell_type": "code",
   "execution_count": 5,
   "metadata": {},
   "outputs": [],
   "source": [
    "f_recov = s2fft.inverse_jax(flm, L, reality=True)"
   ]
  },
  {
   "attachments": {},
   "cell_type": "markdown",
   "metadata": {},
   "source": [
    "Again, if you are planning on applying this transform many times we recommend precomputing and storing some small arrays that are used every time. To do this simply compute these and pass as a static argument."
   ]
  },
  {
   "cell_type": "code",
   "execution_count": 6,
   "metadata": {},
   "outputs": [],
   "source": [
    "precomps = s2fft.generate_precomputes_jax(L, forward=False)\n",
    "f_recov_pre = s2fft.inverse_jax(flm_pre, L, reality=True, precomps=precomps)"
   ]
  },
  {
   "attachments": {},
   "cell_type": "markdown",
   "metadata": {},
   "source": [
    "### Computing the error\n",
    "---\n",
    "\n",
    "Let's check the associated error, which should be close to machine precision for the sampling scheme used."
   ]
  },
  {
   "cell_type": "code",
   "execution_count": 7,
   "metadata": {},
   "outputs": [
    {
     "name": "stdout",
     "output_type": "stream",
     "text": [
      "Mean absolute error = 4.200179328797411e-13\n"
     ]
    }
   ],
   "source": [
    "print(f\"Mean absolute error = {np.nanmean(np.abs(np.real(f_recov) - f))}\")"
   ]
  },
  {
   "cell_type": "code",
   "execution_count": 8,
   "metadata": {},
   "outputs": [
    {
     "name": "stdout",
     "output_type": "stream",
     "text": [
      "Mean absolute error using precomputes = 4.200179328797411e-13\n"
     ]
    }
   ],
   "source": [
    "print(f\"Mean absolute error using precomputes = {np.nanmean(np.abs(np.real(f_recov_pre) - f))}\")"
   ]
  }
 ],
 "metadata": {
  "kernelspec": {
   "display_name": "s2fft-2",
   "language": "python",
   "name": "python3"
  },
  "language_info": {
   "codemirror_mode": {
    "name": "ipython",
    "version": 3
   },
   "file_extension": ".py",
   "mimetype": "text/x-python",
   "name": "python",
   "nbconvert_exporter": "python",
   "pygments_lexer": "ipython3",
   "version": "3.9.13"
  },
  "orig_nbformat": 4,
  "vscode": {
   "interpreter": {
    "hash": "8b81ce61c1d03ea514bdd897e052cb04cc02f6a02e33a191152dc76d125269a5"
   }
  }
 },
 "nbformat": 4,
 "nbformat_minor": 2
}
