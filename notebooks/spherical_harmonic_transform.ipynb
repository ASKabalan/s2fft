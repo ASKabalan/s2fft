{
 "cells": [
  {
   "cell_type": "markdown",
   "metadata": {},
   "source": [
    "# [`S2FFT`](https://github.com/astro-informatics/s2fft) - __Spherical harmonic transform__ Interactive Tutorial\n",
    "---\n",
    "\n"
   ]
  },
  {
   "cell_type": "markdown",
   "metadata": {},
   "source": [
    "This tutorial demonstrates how to call the spherical harmonic transform apis within `S2FFT`. Specifically we will be working with the forward and inverse spin-s spherical harmonic transforms (see [McEwen & Wiaux](https://arxiv.org/pdf/1110.6298.pdf)). First we must load an input signal which is correctly sampled on the sphere, one such image could be that of the Galactic plane captured by ESA's [Gaia satellite](https://sci.esa.int/web/gaia)!"
   ]
  },
  {
   "cell_type": "code",
   "execution_count": null,
   "metadata": {},
   "outputs": [],
   "source": [
    "import numpy as np\n",
    "import s2fft \n",
    "\n",
    "L = 1000\n",
    "sampling = \"mw\"\n",
    "f = np.load('data/Gaia_EDR3_flux.npy')"
   ]
  },
  {
   "cell_type": "markdown",
   "metadata": {},
   "source": [
    "Now, lets take a look at the data on the sphere using [`PyVista`](https://docs.pyvista.org/index.html). **Hint:** try moving the camera inside to see what you would see from the earth!"
   ]
  },
  {
   "cell_type": "code",
   "execution_count": null,
   "metadata": {},
   "outputs": [],
   "source": [
    "s2fft.utils.plotting_functions.plot_sphere(f, L, sampling, isnotebook=True)"
   ]
  },
  {
   "cell_type": "markdown",
   "metadata": {},
   "source": [
    "### Computing the spherical harmonic transform\n",
    "---\n",
    "\n",
    "Lets now run the JAX function to compute the spherical harmonic transform of this observational map."
   ]
  },
  {
   "cell_type": "code",
   "execution_count": null,
   "metadata": {},
   "outputs": [],
   "source": [
    "flm = s2fft.forward_jax(f, L, reality=True)"
   ]
  },
  {
   "cell_type": "markdown",
   "metadata": {},
   "source": [
    "If you are planning on applying this transform many times (e.g. during training of a model) we recommend precomputing and storing some small arrays which are used every time. To do this simply compute these and pass as a static argument"
   ]
  },
  {
   "cell_type": "code",
   "execution_count": null,
   "metadata": {},
   "outputs": [],
   "source": [
    "precomps = s2fft.generate_precomputes_jax(L, forward=True)\n",
    "flm_pre = s2fft.forward_jax(f, L, reality=True, precomps=precomps)"
   ]
  },
  {
   "cell_type": "markdown",
   "metadata": {},
   "source": [
    "### Computing the inverse spherical harmonic transform\n",
    "---\n",
    "\n",
    "Lets run the JAX function to get us back to the observational map, or at least a bandlimited version of said map."
   ]
  },
  {
   "cell_type": "code",
   "execution_count": null,
   "metadata": {},
   "outputs": [],
   "source": [
    "f_test = s2fft.inverse_jax(flm, L, reality=True)"
   ]
  },
  {
   "cell_type": "markdown",
   "metadata": {},
   "source": [
    "Again, if you are planning on applying this transform many times (e.g. during training of a model) we recommend precomputing and storing some small arrays which are used every time. To do this simply compute these and pass as a static argument"
   ]
  },
  {
   "cell_type": "code",
   "execution_count": null,
   "metadata": {},
   "outputs": [],
   "source": [
    "precomps = s2fft.generate_precomputes_jax(L, forward=False)\n",
    "f_pre = s2fft.inverse_jax(flm_pre, L, reality=True, precomps=precomps)"
   ]
  },
  {
   "cell_type": "markdown",
   "metadata": {},
   "source": [
    "We can now quickly check the associated error"
   ]
  },
  {
   "cell_type": "code",
   "execution_count": null,
   "metadata": {},
   "outputs": [],
   "source": [
    "print(f\"Mean absolute error = {np.nanmean(np.abs(np.real(f_test) - f))}\")"
   ]
  }
 ],
 "metadata": {
  "kernelspec": {
   "display_name": "Python 3.9.0 ('s2fft')",
   "language": "python",
   "name": "python3"
  },
  "language_info": {
   "codemirror_mode": {
    "name": "ipython",
    "version": 3
   },
   "file_extension": ".py",
   "mimetype": "text/x-python",
   "name": "python",
   "nbconvert_exporter": "python",
   "pygments_lexer": "ipython3",
   "version": "3.9.0"
  },
  "orig_nbformat": 4,
  "vscode": {
   "interpreter": {
    "hash": "3425e24474cbe920550266ea26b478634978cc419579f9dbcf479231067df6a3"
   }
  }
 },
 "nbformat": 4,
 "nbformat_minor": 2
}
