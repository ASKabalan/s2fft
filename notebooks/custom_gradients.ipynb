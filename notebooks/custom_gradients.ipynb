{
 "cells": [
  {
   "cell_type": "code",
   "execution_count": 1,
   "metadata": {},
   "outputs": [
    {
     "name": "stdout",
     "output_type": "stream",
     "text": [
      "cpu\n"
     ]
    }
   ],
   "source": [
    "# Specify CUDA device\n",
    "import os\n",
    "os.environ['CUDA_VISIBLE_DEVICES'] = ''\n",
    "os.environ['JAX_CHECK_TRACER_LEAKS'] = 'True'\n",
    "\n",
    "import jax\n",
    "jax.config.update(\"jax_enable_x64\", True)\n",
    "\n",
    "# Check we're running on GPU\n",
    "from jax.lib import xla_bridge\n",
    "print(xla_bridge.get_backend().platform)\n",
    "\n",
    "from jax import jit, grad \n",
    "import jax.numpy as jnp \n",
    "from jax.test_util import check_grads\n",
    "import numpy as np \n",
    "\n",
    "import s2fft "
   ]
  },
  {
   "cell_type": "code",
   "execution_count": 2,
   "metadata": {},
   "outputs": [],
   "source": [
    "L = 16\n",
    "sampling = \"mw\"\n",
    "np.random.seed(1911851)\n",
    "f_target = np.random.randn(2*L, 2*L-1)+1j*np.random.randn(2*L, 2*L-1)\n",
    "flm_target = s2fft.forward_jax(f_target, L, sampling=sampling)\n",
    "f_target = s2fft.inverse_jax(flm_target, L, sampling=sampling)\n",
    "precomps = s2fft.generate_precomputes_jax(L, forward=True, sampling=sampling)"
   ]
  },
  {
   "cell_type": "code",
   "execution_count": 3,
   "metadata": {},
   "outputs": [],
   "source": [
    "np.random.seed(130672510)\n",
    "f = np.random.randn(2*L, 2*L-1) + 1j*np.random.randn(2*L, 2*L-1)"
   ]
  },
  {
   "cell_type": "code",
   "execution_count": 4,
   "metadata": {},
   "outputs": [],
   "source": [
    "def func(f):\n",
    "    flm = s2fft.forward_jax(f, L, reality=False, precomps=precomps,sampling=sampling)\n",
    "    return jnp.sum(jnp.abs(flm-flm_target)**2)\n",
    "grad_func = grad(func)"
   ]
  },
  {
   "cell_type": "code",
   "execution_count": 5,
   "metadata": {},
   "outputs": [],
   "source": [
    "check_grads(func, (f,), order=1, modes=('rev'))"
   ]
  }
 ],
 "metadata": {
  "kernelspec": {
   "display_name": "Python 3.9.0 ('s2fft')",
   "language": "python",
   "name": "python3"
  },
  "language_info": {
   "codemirror_mode": {
    "name": "ipython",
    "version": 3
   },
   "file_extension": ".py",
   "mimetype": "text/x-python",
   "name": "python",
   "nbconvert_exporter": "python",
   "pygments_lexer": "ipython3",
   "version": "3.10.4"
  },
  "orig_nbformat": 4,
  "vscode": {
   "interpreter": {
    "hash": "3425e24474cbe920550266ea26b478634978cc419579f9dbcf479231067df6a3"
   }
  }
 },
 "nbformat": 4,
 "nbformat_minor": 2
}
