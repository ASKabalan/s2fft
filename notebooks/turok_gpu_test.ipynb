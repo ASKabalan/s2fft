{
 "cells": [
  {
   "cell_type": "code",
   "execution_count": 2,
   "metadata": {},
   "outputs": [],
   "source": [
    "import numpy as np\n",
    "import jax.numpy as jnp\n",
    "import s2fft.wigner as wigner\n",
    "import s2fft.samples as samples\n",
    "import pyssht as ssht\n",
    "\n",
    "from jax.config import config\n",
    "\n",
    "config.update(\"jax_enable_x64\", True)"
   ]
  },
  {
   "cell_type": "code",
   "execution_count": 3,
   "metadata": {},
   "outputs": [],
   "source": [
    "L = 16\n",
    "spin = 0\n",
    "sampling = \"mw\""
   ]
  },
  {
   "cell_type": "code",
   "execution_count": 4,
   "metadata": {},
   "outputs": [],
   "source": [
    "# Test all dl() terms up to L.\n",
    "betas = samples.thetas(L, sampling, int(L / 2))\n",
    "dl = np.zeros(2 * L - 1, dtype=np.float64)\n",
    "\n",
    "# Compute using SSHT.\n",
    "for beta in betas:\n",
    "    dl_array = ssht.generate_dl(beta, L)\n",
    "\n",
    "    for el in range(L):\n",
    "        if el >= np.abs(spin):\n",
    "\n",
    "            dl_turok = wigner.turok.compute_slice(dl, beta, el, L, -spin)\n",
    "\n",
    "            np.testing.assert_allclose(\n",
    "                dl_turok, dl_array[el][L - 1 - spin], atol=1e-10, rtol=1e-12\n",
    "            )"
   ]
  },
  {
   "cell_type": "code",
   "execution_count": null,
   "metadata": {},
   "outputs": [],
   "source": []
  }
 ],
 "metadata": {
  "interpreter": {
   "hash": "3425e24474cbe920550266ea26b478634978cc419579f9dbcf479231067df6a3"
  },
  "kernelspec": {
   "display_name": "Python 3.9.0 64-bit ('s2fft')",
   "language": "python",
   "name": "python3"
  },
  "language_info": {
   "codemirror_mode": {
    "name": "ipython",
    "version": 3
   },
   "file_extension": ".py",
   "mimetype": "text/x-python",
   "name": "python",
   "nbconvert_exporter": "python",
   "pygments_lexer": "ipython3",
   "version": "3.9.0"
  },
  "orig_nbformat": 4
 },
 "nbformat": 4,
 "nbformat_minor": 2
}
