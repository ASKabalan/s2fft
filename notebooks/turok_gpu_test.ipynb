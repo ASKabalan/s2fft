{
 "cells": [
  {
   "cell_type": "code",
   "execution_count": 1,
   "metadata": {},
   "outputs": [],
   "source": [
    "import numpy as np\n",
    "import jax.numpy as jnp\n",
    "import s2fft.wigner as wigner\n",
    "import s2fft.samples as samples\n",
    "import pyssht as ssht\n",
    "\n",
    "from jax.config import config\n",
    "\n",
    "config.update(\"jax_enable_x64\", True)"
   ]
  },
  {
   "cell_type": "code",
   "execution_count": 2,
   "metadata": {},
   "outputs": [],
   "source": [
    "L = 128\n",
    "el = L-1\n",
    "beta = 2*np.pi/3\n",
    "spin = 0\n",
    "sampling = \"mw\""
   ]
  },
  {
   "cell_type": "code",
   "execution_count": 3,
   "metadata": {},
   "outputs": [
    {
     "name": "stdout",
     "output_type": "stream",
     "text": [
      "23.1 ms ± 1.43 ms per loop (mean ± std. dev. of 7 runs, 10 loops each)\n"
     ]
    }
   ],
   "source": [
    "# Test all dl() terms up to L.\n",
    "dl = np.zeros(2 * L - 1, dtype=np.float64)\n",
    "\n",
    "dl_array = ssht.generate_dl(beta, L)[el][L-1-spin]\n",
    "\n",
    "%timeit ssht.generate_dl(beta, L)\n",
    "\n",
    "def test_dls(dl):\n",
    "    np.testing.assert_allclose(\n",
    "        dl, dl_array, atol=1e-10, rtol=1e-12\n",
    "    )"
   ]
  },
  {
   "cell_type": "code",
   "execution_count": 4,
   "metadata": {},
   "outputs": [
    {
     "name": "stdout",
     "output_type": "stream",
     "text": [
      "2.16 ms ± 606 µs per loop (mean ± std. dev. of 7 runs, 100 loops each)\n"
     ]
    }
   ],
   "source": [
    "dl = np.zeros(2 * L - 1, dtype=np.float64)\n",
    "dl_turok = wigner.turok.compute_slice(dl, beta, el, L, -spin)\n",
    "\n",
    "test_dls(dl_turok)\n",
    "\n",
    "%timeit wigner.turok.compute_slice(dl, beta, el, L, -spin)"
   ]
  },
  {
   "cell_type": "code",
   "execution_count": 5,
   "metadata": {},
   "outputs": [
    {
     "name": "stdout",
     "output_type": "stream",
     "text": [
      "852 µs ± 93.9 µs per loop (mean ± std. dev. of 7 runs, 1000 loops each)\n"
     ]
    }
   ],
   "source": [
    "dl_turok_gpu = wigner.turok_gpu.compute_slice(beta, el, L, -spin)\n",
    "test_dls(dl_turok_gpu)\n",
    "\n",
    "%timeit wigner.turok_gpu.compute_slice(beta, el, L, -spin)"
   ]
  },
  {
   "cell_type": "code",
   "execution_count": 6,
   "metadata": {},
   "outputs": [
    {
     "name": "stdout",
     "output_type": "stream",
     "text": [
      "772 µs ± 195 ns per loop (mean ± std. dev. of 7 runs, 1000 loops each)\n"
     ]
    }
   ],
   "source": [
    "from jax import jit\n",
    "forward_jit = jit(wigner.turok_gpu.compute_slice, static_argnums=(0,1,2,3))\n",
    "\n",
    "dl_turok_gpu_jit = forward_jit(beta, el, L, -spin).block_until_ready()\n",
    "test_dls(dl_turok_gpu_jit)\n",
    "\n",
    "%timeit forward_jit(beta, el, L, -spin)"
   ]
  },
  {
   "cell_type": "code",
   "execution_count": 7,
   "metadata": {},
   "outputs": [
    {
     "name": "stdout",
     "output_type": "stream",
     "text": [
      "[-2.60578212e-09 -2.39769717e-08 -1.53234936e-07 -7.84791884e-07\n",
      " -3.41335692e-06 -1.30086701e-05 -4.42896338e-05 -1.36451038e-04\n",
      " -3.83824869e-04 -9.91975415e-04]\n",
      "[-2.60578212e-09 -2.39769717e-08 -1.53234936e-07 -7.84791884e-07\n",
      " -3.41335692e-06 -1.30086701e-05 -4.42896338e-05 -1.36451038e-04\n",
      " -3.83824869e-04 -9.91975415e-04]\n",
      "[-2.60578212e-09 -2.39769717e-08 -1.53234936e-07 -7.84791884e-07\n",
      " -3.41335692e-06 -1.30086701e-05 -4.42896338e-05 -1.36451038e-04\n",
      " -3.83824869e-04 -9.91975415e-04]\n",
      "[-2.60578212e-09 -2.39769717e-08 -1.53234936e-07 -7.84791884e-07\n",
      " -3.41335692e-06 -1.30086701e-05 -4.42896338e-05 -1.36451038e-04\n",
      " -3.83824869e-04 -9.91975415e-04]\n"
     ]
    }
   ],
   "source": [
    "print(dl_turok_gpu[0:10])\n",
    "print(dl_turok_gpu_jit[0:10])\n",
    "print(dl_turok[0:10])\n",
    "print(dl_array[0:10])"
   ]
  },
  {
   "cell_type": "code",
   "execution_count": null,
   "metadata": {},
   "outputs": [],
   "source": []
  }
 ],
 "metadata": {
  "interpreter": {
   "hash": "3425e24474cbe920550266ea26b478634978cc419579f9dbcf479231067df6a3"
  },
  "kernelspec": {
   "display_name": "Python 3.9.0 64-bit ('s2fft')",
   "language": "python",
   "name": "python3"
  },
  "language_info": {
   "codemirror_mode": {
    "name": "ipython",
    "version": 3
   },
   "file_extension": ".py",
   "mimetype": "text/x-python",
   "name": "python",
   "nbconvert_exporter": "python",
   "pygments_lexer": "ipython3",
   "version": "3.8.13"
  },
  "orig_nbformat": 4
 },
 "nbformat": 4,
 "nbformat_minor": 2
}
