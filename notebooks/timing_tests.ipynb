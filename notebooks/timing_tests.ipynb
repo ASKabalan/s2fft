{
 "cells": [
  {
   "cell_type": "code",
   "execution_count": 1,
   "id": "5a7b44d0",
   "metadata": {},
   "outputs": [],
   "source": [
    "import numpy as np\n",
    "import jax.numpy as jnp"
   ]
  },
  {
   "cell_type": "code",
   "execution_count": 2,
   "id": "6d51d8f7",
   "metadata": {},
   "outputs": [],
   "source": [
    "from jax.config import config\n",
    "config.update(\"jax_enable_x64\", True)"
   ]
  },
  {
   "cell_type": "code",
   "execution_count": 3,
   "id": "8217ac00",
   "metadata": {},
   "outputs": [],
   "source": [
    "import os\n",
    "import sys\n",
    "sys.path.insert(1, os.path.join(sys.path[0], '..'))"
   ]
  },
  {
   "cell_type": "code",
   "execution_count": 4,
   "id": "4b68d1cf",
   "metadata": {},
   "outputs": [],
   "source": [
    "import s2fft\n",
    "import s2fft.wigner as wigner\n",
    "import pyssht as ssht"
   ]
  },
  {
   "cell_type": "code",
   "execution_count": 5,
   "id": "bb72447e",
   "metadata": {},
   "outputs": [],
   "source": [
    "L = 128"
   ]
  },
  {
   "cell_type": "code",
   "execution_count": 6,
   "id": "0923387f",
   "metadata": {},
   "outputs": [],
   "source": [
    "# Compare to routines in SSHT, which have been validated extensively.\n",
    "dl = np.zeros((2 * L - 1, 2 * L - 1), dtype=np.float64)\n",
    "dl = wigner.trapani.init(dl, L)\n",
    "for el in range(1, L):\n",
    "    dl = wigner.trapani.compute_full(dl, L, el)"
   ]
  },
  {
   "cell_type": "code",
   "execution_count": 7,
   "id": "5d3367e6",
   "metadata": {},
   "outputs": [
    {
     "name": "stdout",
     "output_type": "stream",
     "text": [
      "45 ms ± 187 µs per loop (mean ± std. dev. of 7 runs, 10 loops each)\n"
     ]
    }
   ],
   "source": [
    "%timeit wigner.trapani.compute_full(dl, L, el)"
   ]
  },
  {
   "cell_type": "code",
   "execution_count": null,
   "id": "625ae45c",
   "metadata": {},
   "outputs": [],
   "source": []
  },
  {
   "cell_type": "code",
   "execution_count": 8,
   "id": "85176e2e",
   "metadata": {},
   "outputs": [],
   "source": [
    "# Compare to routines in SSHT, which have been validated extensively.\n",
    "dl_vect = np.zeros((2 * L - 1, 2 * L - 1), dtype=np.float64)\n",
    "dl_vect = wigner.trapani.init(dl_vect, L)\n",
    "for el in range(1, L):\n",
    "    dl_vect = wigner.trapani.compute_full_vectorized(dl_vect, L, el)   "
   ]
  },
  {
   "cell_type": "code",
   "execution_count": 9,
   "id": "090fd789",
   "metadata": {},
   "outputs": [
    {
     "name": "stdout",
     "output_type": "stream",
     "text": [
      "2.69 ms ± 14.7 µs per loop (mean ± std. dev. of 7 runs, 100 loops each)\n"
     ]
    }
   ],
   "source": [
    "%timeit wigner.trapani.compute_full_vectorized(dl_vect, L, el)"
   ]
  },
  {
   "cell_type": "code",
   "execution_count": null,
   "id": "88527c78",
   "metadata": {},
   "outputs": [],
   "source": []
  },
  {
   "cell_type": "code",
   "execution_count": null,
   "id": "fc2d6c28",
   "metadata": {},
   "outputs": [],
   "source": []
  },
  {
   "cell_type": "code",
   "execution_count": 10,
   "id": "81ba9123",
   "metadata": {},
   "outputs": [],
   "source": [
    "# Compare to routines in SSHT, which have been validated extensively.\n",
    "dl_jax = jnp.zeros((2 * L - 1, 2 * L - 1), dtype=jnp.float64)\n",
    "dl_jax = wigner.trapani.init_jax(dl_jax, L)\n",
    "for el in range(1, L):\n",
    "    dl_jax = wigner.trapani.compute_full_jax(dl_jax, L, el)"
   ]
  },
  {
   "cell_type": "code",
   "execution_count": 11,
   "id": "cf5a98f6",
   "metadata": {},
   "outputs": [
    {
     "name": "stdout",
     "output_type": "stream",
     "text": [
      "1.04 s ± 63.1 ms per loop (mean ± std. dev. of 7 runs, 1 loop each)\n"
     ]
    }
   ],
   "source": [
    "%timeit wigner.trapani.compute_full_jax(dl_jax, L, el)"
   ]
  },
  {
   "cell_type": "code",
   "execution_count": 12,
   "id": "245f4a9b",
   "metadata": {},
   "outputs": [
    {
     "data": {
      "text/plain": [
       "dtype('float64')"
      ]
     },
     "execution_count": 12,
     "metadata": {},
     "output_type": "execute_result"
    }
   ],
   "source": [
    "dl_jax.dtype"
   ]
  },
  {
   "cell_type": "code",
   "execution_count": 13,
   "id": "2d56b21a",
   "metadata": {},
   "outputs": [],
   "source": [
    "from jax import grad, jit"
   ]
  },
  {
   "cell_type": "code",
   "execution_count": 14,
   "id": "e33a99f6",
   "metadata": {},
   "outputs": [],
   "source": [
    "compute_full_jax_jit = jit(wigner.trapani.compute_full_jax, static_argnums=(1,))"
   ]
  },
  {
   "cell_type": "code",
   "execution_count": 15,
   "id": "58eac8bf",
   "metadata": {},
   "outputs": [
    {
     "name": "stdout",
     "output_type": "stream",
     "text": [
      "911 µs ± 68.1 µs per loop (mean ± std. dev. of 7 runs, 1 loop each)\n"
     ]
    }
   ],
   "source": [
    "%timeit compute_full_jax_jit(dl_jax, L, el)"
   ]
  },
  {
   "cell_type": "code",
   "execution_count": null,
   "id": "98a07d99",
   "metadata": {},
   "outputs": [],
   "source": []
  },
  {
   "cell_type": "code",
   "execution_count": null,
   "id": "0732952a",
   "metadata": {},
   "outputs": [],
   "source": []
  },
  {
   "cell_type": "code",
   "execution_count": null,
   "id": "45c54996",
   "metadata": {},
   "outputs": [],
   "source": []
  },
  {
   "cell_type": "code",
   "execution_count": null,
   "id": "a229a744",
   "metadata": {},
   "outputs": [],
   "source": []
  }
 ],
 "metadata": {
  "kernelspec": {
   "display_name": "Python 3",
   "language": "python",
   "name": "python3"
  },
  "language_info": {
   "codemirror_mode": {
    "name": "ipython",
    "version": 3
   },
   "file_extension": ".py",
   "mimetype": "text/x-python",
   "name": "python",
   "nbconvert_exporter": "python",
   "pygments_lexer": "ipython3",
   "version": "3.8.10"
  }
 },
 "nbformat": 4,
 "nbformat_minor": 5
}
