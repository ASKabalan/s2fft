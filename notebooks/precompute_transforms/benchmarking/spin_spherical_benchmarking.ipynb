{
 "cells": [
  {
   "cell_type": "markdown",
   "metadata": {},
   "source": [
    "# Spherical transform benchmarking"
   ]
  },
  {
   "cell_type": "code",
   "execution_count": 43,
   "metadata": {},
   "outputs": [
    {
     "name": "stdout",
     "output_type": "stream",
     "text": [
      "gpu\n"
     ]
    }
   ],
   "source": [
    "from jax import config\n",
    "\n",
    "config.update(\"jax_enable_x64\", True)\n",
    "\n",
    "\n",
    "import os\n",
    "os.environ['CUDA_VISIBLE_DEVICES'] = '2'\n",
    "\n",
    "import numpy as np\n",
    "import pyssht as ssht \n",
    "\n",
    "from jax import jit, device_put\n",
    "from jax.lib import xla_bridge\n",
    "print(xla_bridge.get_backend().platform)\n",
    "\n",
    "from s2fft import samples\n",
    "from s2fft.precompute_transform import spin_spherical, construct"
   ]
  },
  {
   "cell_type": "markdown",
   "metadata": {},
   "source": [
    "# Code"
   ]
  },
  {
   "cell_type": "code",
   "execution_count": 44,
   "metadata": {},
   "outputs": [],
   "source": [
    "# Generate a random bandlimited field\n",
    "L_approx = 512\n",
    "L = 3*int(L_approx/3)\n",
    "spin = 0\n",
    "sampling = \"dh\"\n",
    "reality = False\n",
    "rng = np.random.default_rng(193412341234)\n",
    "\n",
    "ntheta = samples.ntheta(L, sampling)\n",
    "nphi = samples.nphi_equiang(L, sampling)\n",
    "\n",
    "# Generate a random signal\n",
    "f = np.random.randn(ntheta,nphi) + 1j*np.random.randn(ntheta,nphi)\n",
    "f = f.astype(np.complex128)\n",
    "\n",
    "# Compute the bandlimit harmonic coefficients\n",
    "flm_1d = ssht.forward(f, L, spin, Method=sampling.upper())\n",
    "flm = samples.flm_1d_to_2d(flm_1d, L)\n",
    "flm[:abs(spin)] = 0\n",
    "flm_1d = samples.flm_2d_to_1d(flm, L)"
   ]
  },
  {
   "cell_type": "code",
   "execution_count": 45,
   "metadata": {},
   "outputs": [
    {
     "name": "stdout",
     "output_type": "stream",
     "text": [
      "Kernel memory = 4240.6704 MB\n"
     ]
    }
   ],
   "source": [
    "kernel_i = construct.spin_spherical_kernel(L, spin, reality, sampling, forward=False)\n",
    "kernel_i_jax = device_put(kernel_i)\n",
    "print(f\"Kernel memory = {kernel_i.nbytes*(1e-6)} MB\")"
   ]
  },
  {
   "cell_type": "markdown",
   "metadata": {},
   "source": [
    "### SSHT C implementation"
   ]
  },
  {
   "cell_type": "code",
   "execution_count": 46,
   "metadata": {},
   "outputs": [
    {
     "name": "stdout",
     "output_type": "stream",
     "text": [
      "1.63 s ± 5.25 ms per loop (mean ± std. dev. of 7 runs, 1 loop each)\n"
     ]
    }
   ],
   "source": [
    "f = ssht.inverse(flm_1d, L, spin, Reality=reality, Method=sampling.upper())\n",
    "%timeit ssht.inverse(flm_1d, L, spin, Method=sampling.upper())"
   ]
  },
  {
   "cell_type": "markdown",
   "metadata": {},
   "source": [
    "### numpy implementation"
   ]
  },
  {
   "cell_type": "code",
   "execution_count": 47,
   "metadata": {},
   "outputs": [
    {
     "name": "stdout",
     "output_type": "stream",
     "text": [
      "1.64 s ± 20.7 ms per loop (mean ± std. dev. of 7 runs, 1 loop each)\n"
     ]
    }
   ],
   "source": [
    "f_numpy = spin_spherical.inverse_transform(flm, kernel_i, L, sampling, reality, spin, None)\n",
    "%timeit spin_spherical.inverse_transform(flm, kernel_i, L, sampling, reality, spin, None)"
   ]
  },
  {
   "cell_type": "markdown",
   "metadata": {},
   "source": [
    "### JAX implementation"
   ]
  },
  {
   "cell_type": "code",
   "execution_count": 48,
   "metadata": {},
   "outputs": [
    {
     "name": "stdout",
     "output_type": "stream",
     "text": [
      "7.16 ms ± 620 µs per loop (mean ± std. dev. of 7 runs, 100 loops each)\n"
     ]
    }
   ],
   "source": [
    "flm_jax = device_put(flm)\n",
    "f_jax = spin_spherical.inverse_transform_jax(flm_jax, kernel_i_jax, L, sampling, reality, spin, None)\n",
    "%timeit spin_spherical.inverse_transform_jax(flm_jax, kernel_i_jax, L, sampling, reality, spin, None)"
   ]
  },
  {
   "cell_type": "markdown",
   "metadata": {},
   "source": [
    "### Evaluate transform error"
   ]
  },
  {
   "cell_type": "code",
   "execution_count": 49,
   "metadata": {},
   "outputs": [
    {
     "name": "stdout",
     "output_type": "stream",
     "text": [
      "numpy: Inverse mean absolute error = 2.7959168883063927e-11\n",
      "jax: Inverse mean absolute error = 2.795924569525004e-11\n"
     ]
    }
   ],
   "source": [
    "print(\"numpy: Inverse mean absolute error = {}\".format(np.nanmean(np.abs(f_numpy - f))))\n",
    "print(\"jax: Inverse mean absolute error = {}\".format(np.nanmean(np.abs(f_jax - f))))"
   ]
  }
 ],
 "metadata": {
  "kernelspec": {
   "display_name": "Python 3.8.13 64-bit ('s2fft')",
   "language": "python",
   "name": "python3"
  },
  "language_info": {
   "codemirror_mode": {
    "name": "ipython",
    "version": 3
   },
   "file_extension": ".py",
   "mimetype": "text/x-python",
   "name": "python",
   "nbconvert_exporter": "python",
   "pygments_lexer": "ipython3",
   "version": "3.8.16"
  },
  "orig_nbformat": 4,
  "vscode": {
   "interpreter": {
    "hash": "d6019e21eb0d27eebd69283f1089b8b605b46cb058a452b887458f3af7017e46"
   }
  }
 },
 "nbformat": 4,
 "nbformat_minor": 2
}
