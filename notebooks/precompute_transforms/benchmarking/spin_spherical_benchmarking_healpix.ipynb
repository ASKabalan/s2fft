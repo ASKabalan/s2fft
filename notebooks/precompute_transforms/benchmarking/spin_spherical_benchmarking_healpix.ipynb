{
 "cells": [
  {
   "cell_type": "markdown",
   "metadata": {},
   "source": [
    "# Spin functional JAX-SHT by exploiting kernel precomputes\n",
    "\n",
    "Lets start by importing some packages"
   ]
  },
  {
   "cell_type": "code",
   "execution_count": null,
   "metadata": {},
   "outputs": [],
   "source": [
    "import os\n",
    "# os.environ['CUDA_VISIBLE_DEVICES'] = ''\n",
    "os.environ['CUDA_VISIBLE_DEVICES'] = '2'\n",
    "\n",
    "import numpy as np\n",
    "import healpy as hp \n",
    "\n",
    "from jax import jit, device_put\n",
    "import jax.numpy as jnp\n",
    "\n",
    "from jax.config import config\n",
    "config.update(\"jax_enable_x64\", True)\n",
    "\n",
    "from jax.lib import xla_bridge\n",
    "print(xla_bridge.get_backend().platform)\n",
    "\n",
    "from s2fft.utils import *\n",
    "from s2fft.samples import flm_2d_to_hp\n",
    "from s2fft.general_precompute import spin_spherical, construct"
   ]
  },
  {
   "cell_type": "markdown",
   "metadata": {},
   "source": [
    "### Generate a random complex bandlimited field"
   ]
  },
  {
   "cell_type": "code",
   "execution_count": null,
   "metadata": {},
   "outputs": [],
   "source": [
    "nside = 4\n",
    "L = 2*nside\n",
    "spin = 0\n",
    "sampling = \"healpix\"\n",
    "reality = False \n",
    "rng = np.random.default_rng(193412341234)\n",
    "\n",
    "flm = generate_flm(rng, L, spin, reality)\n",
    "for el in range(L):\n",
    "    elfactor = np.sqrt((2 * el + 1) / (4 * np.pi))\n",
    "    flm[el] *= elfactor\n",
    "flm_hp = flm_2d_to_hp(flm, L)\n",
    "f = hp.sphtfunc.alm2map(flm_hp, nside, lmax=L - 1)\n"
   ]
  },
  {
   "cell_type": "markdown",
   "metadata": {},
   "source": [
    "### Load/construct relevant associated Legendre kernels"
   ]
  },
  {
   "cell_type": "code",
   "execution_count": null,
   "metadata": {},
   "outputs": [],
   "source": [
    "kernel_i = construct.spin_spherical_kernel(L, spin, reality, sampling, nside, forward=False)\n",
    "kernel_i_jax = device_put(kernel_i)\n",
    "print(f\"Kernel memory = {kernel_i.nbytes*(1e-6)} MB\")\n",
    "\n",
    "phases_i = construct.healpix_phase_shifts(L, nside, False)\n",
    "phases_i_jax = device_put(phases_i)"
   ]
  },
  {
   "cell_type": "markdown",
   "metadata": {},
   "source": [
    "# Inverse transform "
   ]
  },
  {
   "cell_type": "code",
   "execution_count": null,
   "metadata": {},
   "outputs": [],
   "source": [
    "f_check = hp.sphtfunc.alm2map(flm_hp, nside, lmax=L - 1)\n",
    "%timeit hp.sphtfunc.alm2map(flm_hp, nside, lmax=L - 1)"
   ]
  },
  {
   "cell_type": "markdown",
   "metadata": {},
   "source": [
    "### NumPy CPU implementation"
   ]
  },
  {
   "cell_type": "code",
   "execution_count": null,
   "metadata": {},
   "outputs": [],
   "source": [
    "f_numpy = spin_spherical.inverse_transform(flm, kernel_i, L, sampling, spin, nside, phases_i)\n",
    "%timeit spin_spherical.inverse_transform(flm, kernel_i, L, sampling, spin, nside, phases_i)"
   ]
  },
  {
   "cell_type": "markdown",
   "metadata": {},
   "source": [
    "### JAX GPU implementation"
   ]
  },
  {
   "cell_type": "code",
   "execution_count": null,
   "metadata": {},
   "outputs": [],
   "source": [
    "flm_jax = device_put(flm)\n",
    "f_jax = spin_spherical.inverse_transform_jax(flm_jax, kernel_i_jax, L, sampling, spin, nside, phases_i_jax)\n",
    "%timeit spin_spherical.inverse_transform_jax(flm_jax, kernel_i_jax, L, sampling, spin, nside, phases_i_jax)"
   ]
  },
  {
   "cell_type": "markdown",
   "metadata": {},
   "source": [
    "### Evaluate transform error"
   ]
  },
  {
   "cell_type": "code",
   "execution_count": null,
   "metadata": {},
   "outputs": [],
   "source": [
    "f_jax = np.array(f_jax)\n",
    "print(\"numpy: Inverse mean absolute error = {}\".format(np.nanmean(np.abs(np.real(f_numpy) - np.real(f_check)))))\n",
    "print(\"jax: Inverse mean absolute error = {}\".format(np.nanmean(np.abs(np.real(f_jax) - np.real(f_check)))))"
   ]
  }
 ],
 "metadata": {
  "kernelspec": {
   "display_name": "Python 3.8.13 64-bit ('s2fft')",
   "language": "python",
   "name": "python3"
  },
  "language_info": {
   "codemirror_mode": {
    "name": "ipython",
    "version": 3
   },
   "file_extension": ".py",
   "mimetype": "text/x-python",
   "name": "python",
   "nbconvert_exporter": "python",
   "pygments_lexer": "ipython3",
   "version": "3.8.16"
  },
  "orig_nbformat": 4,
  "vscode": {
   "interpreter": {
    "hash": "d6019e21eb0d27eebd69283f1089b8b605b46cb058a452b887458f3af7017e46"
   }
  }
 },
 "nbformat": 4,
 "nbformat_minor": 2
}
