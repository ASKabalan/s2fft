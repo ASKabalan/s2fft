{
 "cells": [
  {
   "cell_type": "markdown",
   "metadata": {},
   "source": [
    "# [`S2FFT`](https://github.com/astro-informatics/s2fft) - __Wigner transform__ Interactive Tutorial\n",
    "---\n",
    "\n"
   ]
  },
  {
   "cell_type": "markdown",
   "metadata": {},
   "source": [
    "This tutorial demonstrates how to call the Wigner transform apis within `S2FFT`. Specifically we will be working with the forward and inverse Wigner transforms (see [McEwen *et al*](https://arxiv.org/pdf/1508.03101.pdf)), i.e. \n",
    "\n",
    "$\n",
    "\\begin{equation}\n",
    "f^{\\ell}_{m n} = \\int_{\\text{SO}(3)} \\text{d} \\Omega(\\alpha, \\beta, \\gamma) f(\\alpha, \\beta, \\gamma) D^{\\ell}_{mn}(\\alpha, \\beta \\gamma) \\qquad \\text{and} \\qquad \n",
    "f(\\alpha, \\beta, \\gamma) = \\sum_{\\ell=0}^{\\infty} \\frac{2\\ell +1}{8\\pi^2} \\sum_{m=-\\ell}^{\\ell} \\sum_{n=-\\ell}^{\\ell} f^{\\ell}_{mn} D^{\\ell*}_{mn}(\\alpha, \\beta, \\gamma)\n",
    "\\end{equation}\n",
    "$\n",
    "\n",
    "respectively, where $(\\alpha, \\beta, \\gamma)$ are Euler angles in the $zyz$-convention, the $\\infty$ is truncated at some upper bandlimit L such that $f^{\\ell}_{mn} = 0 \\: \\forall \\: \\ell > L$, and $\\text{d}\\Omega(\\theta, \\varphi)$ is the typical Haar measure on the special orthogonal group SO(3). To demonstrate how to apply ``S2FFT`` transforms we must first construct an input signal which is correctly sampled on the rotation group, sadly no particularly appealing come to hand so we will be working with a random signal."
   ]
  },
  {
   "cell_type": "code",
   "execution_count": null,
   "metadata": {},
   "outputs": [],
   "source": [
    "import numpy as np\n",
    "from s2fft.transforms import wigner\n",
    "from s2fft.recursions import price_mcewen\n",
    "from s2fft.sampling import so3_samples as samples\n",
    "from s2fft.utils.signal_generator import generate_flmn\n",
    "\n",
    "L = 128\n",
    "N = 3\n",
    "reality = True\n",
    "rng = np.random.default_rng(0)\n",
    "flmn = generate_flmn(rng, L, N, reality=reality)"
   ]
  },
  {
   "cell_type": "markdown",
   "metadata": {},
   "source": [
    "Note that if reality is True ``S2FFT`` will enforce Hermitian symmetry $f^{\\ell}_{mn} = -1^{m+n}f^{\\ell*}_{-m,-n}$ which leads to a 2-fold reduction to both memory overhead and compute time."
   ]
  },
  {
   "cell_type": "markdown",
   "metadata": {},
   "source": [
    "### Computing the inverse Wigner transform\n",
    "---\n",
    "Lets JIT compile a JAX function to compute the inverse Wigner transform of this random signal. First we will run a fast precompute to generate a list of arrays with memory overhead which scales as $\\mathcal{O}(NL^2)$. Note that this is the same memory as the input image which is negligible in all but the most extreme cases, e.g. very large bandlimits. Further note that these values need only be computed a single time (both for the forward and inverse transforms) after which they may be reused indefinitely."
   ]
  },
  {
   "cell_type": "code",
   "execution_count": null,
   "metadata": {},
   "outputs": [],
   "source": [
    "inverse_precomputes = price_mcewen.generate_precomputes_wigner_jax(L, N, forward=False, reality=reality)"
   ]
  },
  {
   "cell_type": "markdown",
   "metadata": {},
   "source": [
    "from which we can now readily call a function to map back into pixel-space"
   ]
  },
  {
   "cell_type": "code",
   "execution_count": null,
   "metadata": {},
   "outputs": [],
   "source": [
    "f = wigner.inverse_jax(flmn, L, N, reality=reality, precomps=inverse_precomputes)"
   ]
  },
  {
   "cell_type": "markdown",
   "metadata": {},
   "source": [
    "### Computing the Wigner transform\n",
    "---\n",
    "Lets JIT compile a JAX function to get us back to the random Wigner coefficients. Again we'll begin by generating some precomputes that need only be computed a single time."
   ]
  },
  {
   "cell_type": "code",
   "execution_count": null,
   "metadata": {},
   "outputs": [],
   "source": [
    "forward_precomputes = price_mcewen.generate_precomputes_wigner_jax(L, N, forward=True, reality=reality)"
   ]
  },
  {
   "cell_type": "markdown",
   "metadata": {},
   "source": [
    "Now lets go ahead compute the Wigner coefficients $f^{\\ell}_{mn}$ from $f(\\alpha, \\beta, \\gamma)$ by applying the forward Wigner transform."
   ]
  },
  {
   "cell_type": "code",
   "execution_count": null,
   "metadata": {},
   "outputs": [],
   "source": [
    "flmn_test = wigner.forward_jax(f, L, N, reality=reality, precomps=forward_precomputes)"
   ]
  },
  {
   "cell_type": "markdown",
   "metadata": {},
   "source": [
    "``S2FFT`` adopts a redundant indexing system to ensure that arrays are of fixed shapes, which is a strict requirement of many JAX apis. Specifically we store $f^{\\ell}_{mn}$ as a 3-dimensional array, with indices $0 \\leq \\ell < L$, $-L < m < L$, and $-N < n < N$. As $D^{\\ell}_{mn}$ is strictly 0 for entries where $m,n > \\ell$ our matrix is triangular, i.e. we have \n",
    "\n",
    "\\begin{equation}\n",
    "    \\text{ Format for each n}:\n",
    "        \\begin{bmatrix}\n",
    "            0 & 0 & flmn_{(0,0)} & 0 & 0 \\\\\n",
    "            0 & flmn_{(1,-1)} & flmn_{(1,0)} & flmn_{(1,1)} & 0 \\\\\n",
    "            flmn_{(2,-2)} & flmn_{(2,-1)} & flmn_{(2,0)} & flmn_{(2,1)} & flmn_{(2,2)}\n",
    "        \\end{bmatrix}\n",
    "\\end{equation}"
   ]
  },
  {
   "cell_type": "markdown",
   "metadata": {},
   "source": [
    "Lets check the roundtrip error, which should be close to machine precision for the McEwen-Wiaux sampling theorem which is selected by default"
   ]
  },
  {
   "cell_type": "code",
   "execution_count": null,
   "metadata": {},
   "outputs": [],
   "source": [
    "print(f\"Mean absolute error = {np.nanmean(np.abs(flmn_test - flmn))}\")"
   ]
  }
 ],
 "metadata": {
  "kernelspec": {
   "display_name": "Python 3.9.0 ('s2fft')",
   "language": "python",
   "name": "python3"
  },
  "language_info": {
   "codemirror_mode": {
    "name": "ipython",
    "version": 3
   },
   "file_extension": ".py",
   "mimetype": "text/x-python",
   "name": "python",
   "nbconvert_exporter": "python",
   "pygments_lexer": "ipython3",
   "version": "3.9.0"
  },
  "orig_nbformat": 4,
  "vscode": {
   "interpreter": {
    "hash": "3425e24474cbe920550266ea26b478634978cc419579f9dbcf479231067df6a3"
   }
  }
 },
 "nbformat": 4,
 "nbformat_minor": 2
}
